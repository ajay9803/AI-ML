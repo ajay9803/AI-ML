{
 "cells": [
  {
   "cell_type": "code",
   "execution_count": null,
   "id": "189fbe5f",
   "metadata": {},
   "outputs": [],
   "source": [
    "## Statistics and its applications\n",
    "\n",
    "# It's a field that deals with collection, organization, analysis, interpretation and presentation of data which will ultimately help in decision making.\n"
   ]
  },
  {
   "cell_type": "code",
   "execution_count": null,
   "id": "c22c8efb",
   "metadata": {},
   "outputs": [],
   "source": [
    "# Two types\n",
    "\n",
    "## Descriptive Statistics - organizing and summarizing the data\n",
    "# Measure of Central Tendency / Dispersion\n",
    "\n",
    "## Inferential Statistics - take the sample data, do some experiments and then make a conclusion\n",
    "## or inference fo the population data\n",
    "\n",
    "# Example: class of 1000 students\n",
    "# - mean of height of students [ Descriptive ]\n",
    "# - can the mean of height of students of sample data determine the mean of the population data [ Inferential ]\n"
   ]
  },
  {
   "cell_type": "code",
   "execution_count": null,
   "id": "907a10ed",
   "metadata": {},
   "outputs": [],
   "source": [
    "# Sample Data and Population Data\n",
    "\n",
    "# Population Data - entire data as per the need\n",
    "# denoted by 'N'\n",
    "\n",
    "# Sample Data - a chunk of population data\n",
    "# - different sampling methods\n",
    "# denoted by 'n'"
   ]
  },
  {
   "cell_type": "code",
   "execution_count": null,
   "id": "c260f1dd",
   "metadata": {},
   "outputs": [],
   "source": [
    "# Mean - average\n",
    "# Median - central value [ sorted elements ]\n",
    "# Mode - element with maximum frequency"
   ]
  }
 ],
 "metadata": {
  "language_info": {
   "name": "python"
  }
 },
 "nbformat": 4,
 "nbformat_minor": 5
}
