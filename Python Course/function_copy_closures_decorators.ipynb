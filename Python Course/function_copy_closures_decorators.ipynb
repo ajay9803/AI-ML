{
 "cells": [
  {
   "cell_type": "code",
   "execution_count": 4,
   "metadata": {},
   "outputs": [
    {
     "name": "stdout",
     "output_type": "stream",
     "text": [
      "hello world\n",
      "hello world\n"
     ]
    }
   ],
   "source": [
    "## Function copy\n",
    "## closures\n",
    "## decorators - allows you to modify/add the behaviour of a function or a class method without modifying the actuall code.\n",
    "\n",
    "# define a function\n",
    "\n",
    "def welcome():\n",
    "    return \"hello world\"\n",
    "\n",
    "welcome()\n",
    "\n",
    "wel = welcome\n",
    "print(wel())\n",
    "\n",
    "del welcome\n",
    "\n",
    "print(wel())"
   ]
  },
  {
   "cell_type": "code",
   "execution_count": 9,
   "metadata": {},
   "outputs": [
    {
     "name": "stdout",
     "output_type": "stream",
     "text": [
      "welcome\n"
     ]
    }
   ],
   "source": [
    "## closures - functions\n",
    "\n",
    "def main_func():\n",
    "    \n",
    "    msg = 'welcome'\n",
    "    \n",
    "    def sub_func():\n",
    "        print(msg)\n",
    "        \n",
    "    return sub_func()\n",
    "\n",
    "main_func()\n",
    "\n"
   ]
  },
  {
   "cell_type": "code",
   "execution_count": 10,
   "metadata": {},
   "outputs": [
    {
     "name": "stdout",
     "output_type": "stream",
     "text": [
      "this\n",
      "welcome\n"
     ]
    }
   ],
   "source": [
    "def main_func(func):\n",
    "    \n",
    "    msg = 'welcome'\n",
    "    \n",
    "    def sub_func():\n",
    "        func(\"this\")\n",
    "        print(msg)\n",
    "        \n",
    "    return sub_func()\n",
    "\n",
    "main_func(print)"
   ]
  },
  {
   "cell_type": "code",
   "execution_count": 20,
   "metadata": {},
   "outputs": [],
   "source": [
    "## decorators - @\n",
    "\n",
    "def main_func(func):\n",
    "    print('this')\n",
    "    func()\n",
    "    print('that')\n",
    "    \n",
    "\n"
   ]
  },
  {
   "cell_type": "code",
   "execution_count": 21,
   "metadata": {},
   "outputs": [
    {
     "name": "stdout",
     "output_type": "stream",
     "text": [
      "this\n",
      "tada\n",
      "that\n"
     ]
    }
   ],
   "source": [
    "@main_func\n",
    "def sub_func():\n",
    "    print('tada')"
   ]
  },
  {
   "cell_type": "code",
   "execution_count": 22,
   "metadata": {},
   "outputs": [
    {
     "ename": "TypeError",
     "evalue": "'NoneType' object is not callable",
     "output_type": "error",
     "traceback": [
      "\u001b[1;31m---------------------------------------------------------------------------\u001b[0m",
      "\u001b[1;31mTypeError\u001b[0m                                 Traceback (most recent call last)",
      "Cell \u001b[1;32mIn[22], line 1\u001b[0m\n\u001b[1;32m----> 1\u001b[0m \u001b[43msub_func\u001b[49m\u001b[43m(\u001b[49m\u001b[43m)\u001b[49m\n",
      "\u001b[1;31mTypeError\u001b[0m: 'NoneType' object is not callable"
     ]
    }
   ],
   "source": [
    "sub_func()"
   ]
  }
 ],
 "metadata": {
  "kernelspec": {
   "display_name": "Python 3",
   "language": "python",
   "name": "python3"
  },
  "language_info": {
   "codemirror_mode": {
    "name": "ipython",
    "version": 3
   },
   "file_extension": ".py",
   "mimetype": "text/x-python",
   "name": "python",
   "nbconvert_exporter": "python",
   "pygments_lexer": "ipython3",
   "version": "3.13.0"
  }
 },
 "nbformat": 4,
 "nbformat_minor": 2
}
