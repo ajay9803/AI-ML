{
 "cells": [
  {
   "cell_type": "markdown",
   "metadata": {},
   "source": [
    "Abstraction:\n",
    "\n",
    "It is a concept of hiding the complex implementation details and showing only the necessary featues of an object."
   ]
  },
  {
   "cell_type": "code",
   "execution_count": 4,
   "metadata": {},
   "outputs": [
    {
     "name": "stdout",
     "output_type": "stream",
     "text": [
      "The engine is starting.\n",
      "The vehicle is driving.\n"
     ]
    },
    {
     "ename": "TypeError",
     "evalue": "Can't instantiate abstract class Vehicle without an implementation for abstract method 'start_engine'",
     "output_type": "error",
     "traceback": [
      "\u001b[1;31m---------------------------------------------------------------------------\u001b[0m",
      "\u001b[1;31mTypeError\u001b[0m                                 Traceback (most recent call last)",
      "Cell \u001b[1;32mIn[4], line 23\u001b[0m\n\u001b[0;32m     20\u001b[0m car\u001b[38;5;241m.\u001b[39mstart_engine()\n\u001b[0;32m     21\u001b[0m car\u001b[38;5;241m.\u001b[39mdrive()\n\u001b[1;32m---> 23\u001b[0m v1 \u001b[38;5;241m=\u001b[39m \u001b[43mVehicle\u001b[49m\u001b[43m(\u001b[49m\u001b[43m)\u001b[49m\n\u001b[0;32m     24\u001b[0m v1\u001b[38;5;241m.\u001b[39mstart_engine() \u001b[38;5;66;03m# An error will occur as there is no implementation of the abstract class.\u001b[39;00m\n",
      "\u001b[1;31mTypeError\u001b[0m: Can't instantiate abstract class Vehicle without an implementation for abstract method 'start_engine'"
     ]
    }
   ],
   "source": [
    "### Abstraction\n",
    "\n",
    "from abc import ABC, abstractmethod\n",
    "\n",
    "# Create a parent class\n",
    "\n",
    "class Vehicle(ABC):\n",
    "    def drive(self):\n",
    "        print(\"The vehicle is driving.\")\n",
    "        \n",
    "    @abstractmethod\n",
    "    def start_engine(self):\n",
    "        pass\n",
    "    \n",
    "class Car(Vehicle):\n",
    "    def start_engine(self):\n",
    "        print('The engine is starting.')\n",
    "        \n",
    "car = Car()\n",
    "car.start_engine()\n",
    "car.drive()\n",
    "\n",
    "v1 = Vehicle()\n",
    "v1.start_engine() # An error will occur as there is no implementation of the abstract class."
   ]
  }
 ],
 "metadata": {
  "kernelspec": {
   "display_name": "Python 3",
   "language": "python",
   "name": "python3"
  },
  "language_info": {
   "codemirror_mode": {
    "name": "ipython",
    "version": 3
   },
   "file_extension": ".py",
   "mimetype": "text/x-python",
   "name": "python",
   "nbconvert_exporter": "python",
   "pygments_lexer": "ipython3",
   "version": "3.13.0"
  }
 },
 "nbformat": 4,
 "nbformat_minor": 2
}
