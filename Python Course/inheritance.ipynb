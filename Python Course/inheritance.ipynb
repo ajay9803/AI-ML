{
 "cells": [
  {
   "cell_type": "markdown",
   "metadata": {},
   "source": [
    "Inheritance:\n",
    "\n",
    "It is a concept of OOP by which a class can inherit attributes and methods from it's parent class."
   ]
  },
  {
   "cell_type": "code",
   "execution_count": 9,
   "metadata": {},
   "outputs": [
    {
     "name": "stdout",
     "output_type": "stream",
     "text": [
      "Pigeon can fly.\n",
      "Kiwi can fly.\n",
      "Kiwi can run: True.\n"
     ]
    }
   ],
   "source": [
    "### Single Inheritance\n",
    "### Create a parent class\n",
    "\n",
    "class Bird:\n",
    "    def __init__(self, name, age, color):\n",
    "        self.name = name\n",
    "        self.age = age\n",
    "        self.color = color\n",
    "        \n",
    "    def fly(self): \n",
    "        print(f\"{self.name} can fly.\")\n",
    "        \n",
    "pigeon = Bird('Pigeon', 12, \"blue\")\n",
    "pigeon.fly()\n",
    "\n",
    "\n",
    "### Create a child class\n",
    "class Kiwi(Bird):\n",
    "    def __init__(self, name, age, color, can_run):\n",
    "        super().__init__(name, age, color)\n",
    "        self.can_run = can_run\n",
    "        \n",
    "    def run(self):\n",
    "        print(f\"{self.name} can run: {self.can_run}.\")  \n",
    "        \n",
    "kiwi = Kiwi('Kiwi', 3, \"brown\", True) \n",
    "kiwi.fly()\n",
    "kiwi.run()\n"
   ]
  },
  {
   "cell_type": "code",
   "execution_count": 11,
   "metadata": {},
   "outputs": [
    {
     "name": "stdout",
     "output_type": "stream",
     "text": [
      "Bull can eat.\n",
      "John is the owner.\n"
     ]
    }
   ],
   "source": [
    "### Multiple Inheritance\n",
    "\n",
    "### Create a base class 1\n",
    "class Animal:\n",
    "    def __init__(self, name, age):\n",
    "        self.name = name\n",
    "        self.age = age\n",
    "        \n",
    "    def eat(self):\n",
    "        print(f\"{self.name} can eat.\")\n",
    "\n",
    "### Create a base class 2\n",
    "class Owner:\n",
    "    def __init__(self, owner):\n",
    "        self.owner = owner\n",
    "        \n",
    "    def owner_info(self):\n",
    "        print(f\"{self.owner} is the owner.\")\n",
    "        \n",
    "\n",
    "### Create a child class\n",
    "class Dog(Animal, Owner):\n",
    "    def __init__(self, name, age, owner):\n",
    "        Animal.__init__(self, name, age)\n",
    "        Owner.__init__(self, owner)\n",
    "        \n",
    "        \n",
    "bull = Dog('Bull', 5, 'John')\n",
    "bull.eat()\n",
    "bull.owner_info()"
   ]
  }
 ],
 "metadata": {
  "kernelspec": {
   "display_name": "Python 3",
   "language": "python",
   "name": "python3"
  },
  "language_info": {
   "codemirror_mode": {
    "name": "ipython",
    "version": 3
   },
   "file_extension": ".py",
   "mimetype": "text/x-python",
   "name": "python",
   "nbconvert_exporter": "python",
   "pygments_lexer": "ipython3",
   "version": "3.13.0"
  }
 },
 "nbformat": 4,
 "nbformat_minor": 2
}
