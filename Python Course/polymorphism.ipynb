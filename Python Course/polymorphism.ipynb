{
 "cells": [
  {
   "cell_type": "markdown",
   "metadata": {},
   "source": [
    "Polymorphism:\n",
    "\n",
    "It is a core concept of OOP that allows objects of different classes to be treated as objects of common superclass. It's a way to perform single action in different ways/forms.\n"
   ]
  },
  {
   "cell_type": "code",
   "execution_count": 1,
   "metadata": {},
   "outputs": [
    {
     "name": "stdout",
     "output_type": "stream",
     "text": [
      "Animal Speaking.\n",
      "Dog Barking.\n"
     ]
    }
   ],
   "source": [
    "### Method Overriding\n",
    "\n",
    "### Create a parent class\n",
    "class Animal:\n",
    "    def speak(self):\n",
    "        print(\"Animal Speaking.\")\n",
    "        \n",
    "### Create a child class\n",
    "class Dog(Animal):\n",
    "    def speak(self):\n",
    "        print(\"Dog Barking.\")\n",
    "        \n",
    "animal1 = Animal()\n",
    "dog1 = Dog()\n",
    "\n",
    "animal1.speak()\n",
    "dog1.speak()\n"
   ]
  },
  {
   "cell_type": "code",
   "execution_count": 2,
   "metadata": {},
   "outputs": [
    {
     "name": "stdout",
     "output_type": "stream",
     "text": [
      "16\n",
      "153.86\n"
     ]
    }
   ],
   "source": [
    "### Polymorphism with functions and methods\n",
    "\n",
    "### Create a parent class\n",
    "class Shape:\n",
    "    def area(self):\n",
    "        return 0\n",
    "    \n",
    "### Create a child class 1\n",
    "class Square(Shape):\n",
    "    def __init__(self, length):\n",
    "        self.length = length\n",
    "        \n",
    "    def area(self):\n",
    "        return self.length * self.length\n",
    "    \n",
    "### Create a child class 2\n",
    "class Circle(Shape):\n",
    "    def __init__(self, radius):\n",
    "        self.radius = radius\n",
    "        \n",
    "    def area(self):\n",
    "        return 3.14 * self.radius * self.radius\n",
    "    \n",
    "square = Square(4)\n",
    "circle = Circle(7)\n",
    "\n",
    "print(square.area())\n",
    "print(circle.area())"
   ]
  },
  {
   "cell_type": "code",
   "execution_count": 3,
   "metadata": {},
   "outputs": [
    {
     "name": "stdout",
     "output_type": "stream",
     "text": [
      "Car engine started.\n",
      "Bike engine started.\n"
     ]
    }
   ],
   "source": [
    "### Polymorphism Abstract Base Classes (ABCs)\n",
    "\n",
    "# ABCs are used to define common methods for a group of related objects.\n",
    "\n",
    "from abc import ABC, abstractmethod\n",
    "\n",
    "class Vehicle(ABC):\n",
    "    @abstractmethod\n",
    "    def start_engine(self):\n",
    "        pass\n",
    "    \n",
    "class Car(Vehicle):\n",
    "    def start_engine(self):\n",
    "        return \"Car engine started.\"\n",
    "    \n",
    "class Bike(Vehicle):\n",
    "    def start_engine(self):\n",
    "        return \"Bike engine started.\"\n",
    "    \n",
    "car = Car()\n",
    "bike = Bike()\n",
    "\n",
    "print(car.start_engine())\n",
    "print(bike.start_engine())\n"
   ]
  }
 ],
 "metadata": {
  "kernelspec": {
   "display_name": "Python 3",
   "language": "python",
   "name": "python3"
  },
  "language_info": {
   "codemirror_mode": {
    "name": "ipython",
    "version": 3
   },
   "file_extension": ".py",
   "mimetype": "text/x-python",
   "name": "python",
   "nbconvert_exporter": "python",
   "pygments_lexer": "ipython3",
   "version": "3.13.0"
  }
 },
 "nbformat": 4,
 "nbformat_minor": 2
}
