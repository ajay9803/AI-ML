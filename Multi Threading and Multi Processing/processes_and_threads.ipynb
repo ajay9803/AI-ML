{
 "cells": [
  {
   "cell_type": "code",
   "execution_count": null,
   "metadata": {},
   "outputs": [],
   "source": [
    "### Program - A sequence of instructions written in a programming language.\n",
    "\n",
    "## Process - An instance of Program that is being executed.\n",
    "# A Process will have a separate memory space.\n",
    "# One process can't corrupt another process.\n",
    "\n",
    "\n",
    "## Thread - It is an unit of execution within the process. A thread will have its own stack and register.\n",
    "\n",
    "#Types\n",
    "## Single thread - One single thread\n",
    "## Multi thread - Multiple thread"
   ]
  }
 ],
 "metadata": {
  "language_info": {
   "name": "python"
  }
 },
 "nbformat": 4,
 "nbformat_minor": 2
}
